{
 "cells": [
  {
   "cell_type": "code",
   "execution_count": 4,
   "metadata": {},
   "outputs": [
    {
     "name": "stdout",
     "output_type": "stream",
     "text": [
      "Enter the length of the triangle 21\n",
      "Length of the triangle user requested is 21.0 \n"
     ]
    },
    {
     "data": {
      "text/plain": [
       "378.99868073649014"
      ]
     },
     "execution_count": 4,
     "metadata": {},
     "output_type": "execute_result"
    }
   ],
   "source": [
    "#Write a Python Program(with class concepts) to find the area of the triangle using the below formula.\n",
    "#area = (s*(s-a)*(s-b)*(s-c)) ** 0.5\n",
    "\n",
    "#Function to take the length of the sides of triangle from user should be defined in the parent class.\n",
    "\n",
    "class len_tri:\n",
    "    def __init__(self,a):\n",
    "        self.a = float(a)\n",
    "\n",
    "#function to calculate the area should be defined in subclass.\n",
    "\n",
    "class area_tri(len_tri):\n",
    "    def __init__(self,*args):\n",
    "        super(area_tri,self).__init__(*args)\n",
    "    def area(self,x,y,z):\n",
    "        self.x = x\n",
    "        self.y = y\n",
    "        self.z = z\n",
    "        area = (self.a*(self.a-x)*(self.a-y)*(self.a-z)) ** 0.5\n",
    "        return(area)\n",
    "\n",
    "t = area_tri(input(\"Enter the length of the triangle \"))\n",
    "print('Length of the triangle user requested is %s ' % (t.a))\n",
    "\n",
    "t.area(1,2,3)"
   ]
  },
  {
   "cell_type": "code",
   "execution_count": 6,
   "metadata": {},
   "outputs": [
    {
     "name": "stdout",
     "output_type": "stream",
     "text": [
      "['murugan', 'Bhupesh', 'Maniraj', 'Saraswathy', 'Kalyani']\n"
     ]
    }
   ],
   "source": [
    "#Write a function filter_long_words() that takes a list of words and an integer n and returns the list of words that are longer than n.\n",
    "\n",
    "def filter_long_words(w,n):\n",
    "    return list(filter(lambda x: len(x) > n, w))\n",
    "\n",
    "f = filter_long_words([\"murugan\",\"Mani\",\"Bhupesh\",\"Maniraj\",\"Saraswathy\",\"Kalyani\"],5)\n",
    "print(f)"
   ]
  },
  {
   "cell_type": "code",
   "execution_count": 8,
   "metadata": {},
   "outputs": [
    {
     "data": {
      "text/plain": [
       "[7, 4, 7, 7, 10, 7]"
      ]
     },
     "execution_count": 8,
     "metadata": {},
     "output_type": "execute_result"
    }
   ],
   "source": [
    "#Write a Python program using function concept that maps list of words into a list of integers representing the lengths of the corresponding words .\n",
    "\n",
    "f = list(map(lambda x:len(x),[\"Murugan\",\"Mani\",\"Bhupesh\",\"Maniraj\",\"Saraswathy\",\"Kalyani\"]))\n",
    "f"
   ]
  },
  {
   "cell_type": "code",
   "execution_count": 119,
   "metadata": {},
   "outputs": [
    {
     "name": "stdout",
     "output_type": "stream",
     "text": [
      "Enter a single character: 2\n"
     ]
    },
    {
     "data": {
      "text/plain": [
       "[False]"
      ]
     },
     "execution_count": 119,
     "metadata": {},
     "output_type": "execute_result"
    }
   ],
   "source": [
    "#Write a Python function which takes a character (i.e. a string of length 1) and returns True if it is a vowel, False otherwise.\n",
    "a = input('Enter a single character: ')\n",
    "list(map(lambda x:x=='a' or x=='e' or x==\"i\" or x==\"o\" or x==\"u\",a))    \n",
    "\n"
   ]
  },
  {
   "cell_type": "code",
   "execution_count": null,
   "metadata": {},
   "outputs": [],
   "source": []
  }
 ],
 "metadata": {
  "kernelspec": {
   "display_name": "Python 3",
   "language": "python",
   "name": "python3"
  },
  "language_info": {
   "codemirror_mode": {
    "name": "ipython",
    "version": 3
   },
   "file_extension": ".py",
   "mimetype": "text/x-python",
   "name": "python",
   "nbconvert_exporter": "python",
   "pygments_lexer": "ipython3",
   "version": "3.7.6"
  }
 },
 "nbformat": 4,
 "nbformat_minor": 4
}
