{
 "cells": [
  {
   "cell_type": "code",
   "execution_count": 12,
   "metadata": {},
   "outputs": [
    {
     "name": "stdout",
     "output_type": "stream",
     "text": [
      "invalid operation :  division by zero\n"
     ]
    }
   ],
   "source": [
    "#Write a function to compute 5/0 and use try/except to catch the exceptions.\n",
    "def comp():\n",
    "    try:\n",
    "        v = 5/0\n",
    "        print(v)\n",
    "    except Exception as e:\n",
    "        print(\"invalid operation : \", e)\n",
    "comp()\n"
   ]
  },
  {
   "cell_type": "code",
   "execution_count": 47,
   "metadata": {},
   "outputs": [
    {
     "name": "stdout",
     "output_type": "stream",
     "text": [
      "Americans play Baseball.\n",
      "Americans play Cricket.\n",
      "Americans watch Baseball.\n",
      "Americans watch Cricket.\n",
      "Indians play Baseball.\n",
      "Indians play Cricket.\n",
      "Indians watch Baseball.\n",
      "Indians watch Cricket.\n",
      "[['Americans play Baseball.'], ['Americans play Cricket.'], ['Americans watch Baseball.'], ['Americans watch Cricket.'], ['Indians play Baseball.'], ['Indians play Cricket.'], ['Indians watch Baseball.'], ['Indians watch Cricket.']]\n"
     ]
    }
   ],
   "source": [
    "#Implement a Python program to generate all sentences where subject is in [\"Americans\",\n",
    "#\"Indians\"] and verb is in [\"Play\", \"watch\"] and the object is in [\"Baseball\",\"cricket\"].\n",
    "\n",
    "s = [\"Americans\",\"Indians\"]\n",
    "v = [\"play\",\"watch\"]\n",
    "o = [\"Baseball\",\"Cricket\"]\n",
    "\n",
    "for i in s:\n",
    "    sent = i + \" \"\n",
    "    for j in v:\n",
    "        sent1 = sent + j + \" \"\n",
    "        for k in o:\n",
    "            sent2 = sent1 + k + \".\"\n",
    "            print(sent2)\n",
    "\n",
    "#Using List comprehension\n",
    "a = [[i + \" \" + j + \" \" + k + \".\"] for i in s for j in v for k in o]\n",
    "print(a)"
   ]
  },
  {
   "cell_type": "code",
   "execution_count": 25,
   "metadata": {
    "scrolled": true
   },
   "outputs": [
    {
     "name": "stdout",
     "output_type": "stream",
     "text": [
      "[[2, 1, 0.5], [3, 1, 0.33], [4, 1, 0.25]]\n"
     ]
    }
   ],
   "source": [
    "#Write a function so that the columns of the output matrix are powers of the input vector.\n",
    "\n",
    "#The order of the powers is determined by the increasing boolean argument. Specifically, when increasing is False, \n",
    "#the i-th output column is the input vector raised element-wise to the power of N - i - 1.\n",
    "\n",
    "a = [2,3,4]\n",
    "N = 3\n",
    "o = []\n",
    "p = []\n",
    "for i in a:\n",
    "    for j in range(1,N+1):\n",
    "        c = round(i**(N-1-j),2)\n",
    "        o.append(c)\n",
    "        if j == N:\n",
    "            p.append(o)\n",
    "            o = []\n",
    "print(p)"
   ]
  },
  {
   "cell_type": "code",
   "execution_count": null,
   "metadata": {},
   "outputs": [],
   "source": []
  }
 ],
 "metadata": {
  "kernelspec": {
   "display_name": "Python 3",
   "language": "python",
   "name": "python3"
  },
  "language_info": {
   "codemirror_mode": {
    "name": "ipython",
    "version": 3
   },
   "file_extension": ".py",
   "mimetype": "text/x-python",
   "name": "python",
   "nbconvert_exporter": "python",
   "pygments_lexer": "ipython3",
   "version": "3.7.6"
  }
 },
 "nbformat": 4,
 "nbformat_minor": 4
}
